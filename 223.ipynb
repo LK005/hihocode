{
 "cells": [
  {
   "cell_type": "code",
   "execution_count": null,
   "metadata": {},
   "outputs": [
    {
     "name": "stdout",
     "output_type": "stream",
     "text": [
      "5 1 5\n",
      "1 2\n",
      "1 3\n"
     ]
    }
   ],
   "source": [
    "line1 = input().split()\n",
    "n = int(line1[0])\n",
    "xy = [int(x)for x in line1[1:]]\n",
    "linen = []\n",
    "for i in range(n):\n",
    "#     linen1 = list(input())\n",
    "    linen.append([int(y) for y in input().split()])\n",
    "    \n",
    "print(n)\n",
    "print(xy)\n",
    "print(linen)"
   ]
  },
  {
   "cell_type": "code",
   "execution_count": null,
   "metadata": {},
   "outputs": [],
   "source": [
    "sorted(linen,key=lambda r:r[0])"
   ]
  },
  {
   "cell_type": "code",
   "execution_count": null,
   "metadata": {},
   "outputs": [],
   "source": [
    "x = xy[0];y = xy[1]\n",
    "R = []\n",
    "c = 1\n",
    "if linen[0][0] <= x:\n",
    "    x0 = linen[0][0]\n",
    "    s = 0\n",
    "    while True:\n",
    "        R0 = []\n",
    "        R0 = [r for r in linen[c-1:] if r[0]<=x0]\n",
    "        print(R0)\n",
    "        sorted(R0,key=lambda l:l[1])\n",
    "        if len(R0) != 0:\n",
    "            c += len(R0)\n",
    "            x0 = R0[-1][1]\n",
    "            R.append(x0)\n",
    "            if x0>=y:\n",
    "                print(len(R))\n",
    "                break\n",
    "        else:\n",
    "            print(-1)\n",
    "            break\n",
    "    \n",
    "else:\n",
    "    print(-1)\n",
    "            "
   ]
  }
 ],
 "metadata": {
  "kernelspec": {
   "display_name": "Python 3",
   "language": "python",
   "name": "python3"
  },
  "language_info": {
   "codemirror_mode": {
    "name": "ipython",
    "version": 3
   },
   "file_extension": ".py",
   "mimetype": "text/x-python",
   "name": "python",
   "nbconvert_exporter": "python",
   "pygments_lexer": "ipython3",
   "version": "3.6.4"
  }
 },
 "nbformat": 4,
 "nbformat_minor": 2
}
